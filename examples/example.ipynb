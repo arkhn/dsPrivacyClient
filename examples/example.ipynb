{
 "cells": [
  {
   "cell_type": "code",
   "execution_count": 19,
   "id": "bf18bfff-8aad-42cb-bcc8-0e066e08e417",
   "metadata": {},
   "outputs": [],
   "source": [
    "library(DSI)\n",
    "library(DSOpal)\n",
    "library(devtools)\n",
    "library(dsPrivacyClient)\n",
    "library(dotenv)"
   ]
  },
  {
   "cell_type": "code",
   "execution_count": 16,
   "id": "7c124ea1-c974-4abd-a514-89cd3699991f",
   "metadata": {},
   "outputs": [],
   "source": [
    "load_dot_env(file = \".env\")\n",
    "password = Sys.getenv(\"ADMINISTRATOR_PWD\")"
   ]
  },
  {
   "cell_type": "code",
   "execution_count": 18,
   "id": "1ec2bc51-1cfe-478c-b59d-2ab0fd0b22a4",
   "metadata": {
    "collapsed": true,
    "jupyter": {
     "outputs_hidden": true
    },
    "tags": []
   },
   "outputs": [
    {
     "name": "stderr",
     "output_type": "stream",
     "text": [
      "\n",
      "Logging into the collaborating servers\n",
      "\n",
      "\n",
      "   [-------------------------------------------------------------------------------------]   0% / 0s\n",
      "\n",
      "  Login titanic_1 [======================>-----------------------------------------------]  33% / 0s\n",
      "\n",
      "  Login titanic_2 [==============================================>-----------------------]  67% / 1s\n",
      "\n",
      "  Logged in all servers [================================================================] 100% / 1s\n",
      "\n",
      "\n",
      "\n",
      "  No variables have been specified. \n",
      "  All the variables in the table \n",
      "  (the whole dataset) will be assigned to R!\n",
      "\n",
      "\n",
      "Assigning table data...\n",
      "\n",
      "\n",
      "   [-------------------------------------------------------------------------------------]   0% / 0s\n",
      "\n",
      "  Assigning titanic_1 (titanic.titanic_server_1) [============>--------------------------]  33% / 1s\n",
      "\n",
      "  Assigning titanic_2 (titanic.titanic_server_2) [=========================>-------------]  67% / 1s\n",
      "\n",
      "  Assigned all tables [==================================================================] 100% / 1s\n",
      "\n",
      "\n"
     ]
    }
   ],
   "source": [
    "builder <- DSI::newDSLoginBuilder(.silent = FALSE)\n",
    "builder$append(\n",
    "  server = \"titanic_1\",\n",
    "  url = \"https://dev.arkhn.com/\",\n",
    "  user = \"administrator\", password = password,\n",
    "  table = \"titanic.titanic_server_1\",\n",
    "  driver = \"OpalDriver\",\n",
    "  options='list(ssl_verifyhost=0, ssl_verifypeer=0)'\n",
    ")\n",
    "builder$append(\n",
    "  server = \"titanic_2\",\n",
    "  url = \"https://dev.arkhn.com/\",\n",
    "  user = \"administrator\", password = password,\n",
    "  table = \"titanic.titanic_server_2\",\n",
    "  driver = \"OpalDriver\",\n",
    "  options='list(ssl_verifyhost=0, ssl_verifypeer=0)'\n",
    ")\n",
    "logindata <- builder$build()\n",
    "\n",
    "connections <- DSI::datashield.login(logins = logindata, assign = TRUE, symbol = \"D\")"
   ]
  },
  {
   "cell_type": "code",
   "execution_count": 10,
   "id": "d71a86f6-4e73-4ea3-b4ec-9a37db31fdbe",
   "metadata": {
    "collapsed": true,
    "jupyter": {
     "outputs_hidden": true
    },
    "tags": []
   },
   "outputs": [
    {
     "name": "stderr",
     "output_type": "stream",
     "text": [
      "\n",
      "   [-------------------------------------------------------------------------------------]   0% / 0s\n",
      "\n",
      "  Checking titanic_1 (boundedMeanDP(D$Age, 1, 1, 100)) [---------------------------------]   0% / 3s\n",
      "\n",
      "  Getting aggregate titanic_1 (boundedMeanDP(D$Age, 1, 1, 100)) [=======>----------------]  33% / 3s\n",
      "\n",
      "  Checking titanic_2 (boundedMeanDP(D$Age, 1, 1, 100)) [==========>----------------------]  33% / 3s\n",
      "\n",
      "  Getting aggregate titanic_2 (boundedMeanDP(D$Age, 1, 1, 100)) [===============>--------]  67% / 3s\n",
      "\n",
      "  Aggregated (boundedMeanDP(D$Age, 1, 1, 100)) [=========================================] 100% / 3s\n",
      "\n",
      "\n"
     ]
    },
    {
     "data": {
      "text/html": [
       "<dl>\n",
       "\t<dt>$Mean.by.Study</dt>\n",
       "\t\t<dd><style>\n",
       ".list-inline {list-style: none; margin:0; padding: 0}\n",
       ".list-inline>li {display: inline-block}\n",
       ".list-inline>li:not(:last-child)::after {content: \"\\00b7\"; padding: 0 .5ex}\n",
       "</style>\n",
       "<ol class=list-inline><li>28.3724715768659</li><li>30.9144601537814</li></ol>\n",
       "</dd>\n",
       "\t<dt>$Nstudies</dt>\n",
       "\t\t<dd>2</dd>\n",
       "</dl>\n"
      ],
      "text/latex": [
       "\\begin{description}\n",
       "\\item[\\$Mean.by.Study] \\begin{enumerate*}\n",
       "\\item 28.3724715768659\n",
       "\\item 30.9144601537814\n",
       "\\end{enumerate*}\n",
       "\n",
       "\\item[\\$Nstudies] 2\n",
       "\\end{description}\n"
      ],
      "text/markdown": [
       "$Mean.by.Study\n",
       ":   1. 28.3724715768659\n",
       "2. 30.9144601537814\n",
       "\n",
       "\n",
       "\n",
       "$Nstudies\n",
       ":   2\n",
       "\n",
       "\n"
      ],
      "text/plain": [
       "$Mean.by.Study\n",
       "[1] 28.37247 30.91446\n",
       "\n",
       "$Nstudies\n",
       "[1] 2\n"
      ]
     },
     "metadata": {},
     "output_type": "display_data"
    }
   ],
   "source": [
    "ds.boundedMeanDP(\"D$Age\", epsilon = 1.0, lower_bound = 1.0, upper_bound = 100.0, datasources = connections)"
   ]
  },
  {
   "cell_type": "code",
   "execution_count": null,
   "id": "d0917ae8-1a85-451f-a7a3-0508ad92d742",
   "metadata": {},
   "outputs": [
    {
     "data": {
      "text/plain": [
       "NULL"
      ]
     },
     "metadata": {},
     "output_type": "display_data"
    }
   ],
   "source": [
    "datashield.errors()"
   ]
  }
 ],
 "metadata": {
  "kernelspec": {
   "display_name": "R",
   "language": "R",
   "name": "ir"
  },
  "language_info": {
   "codemirror_mode": "r",
   "file_extension": ".r",
   "mimetype": "text/x-r-source",
   "name": "R",
   "pygments_lexer": "r",
   "version": "4.1.2"
  }
 },
 "nbformat": 4,
 "nbformat_minor": 5
}
